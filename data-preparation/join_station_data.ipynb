{
 "cells": [
  {
   "cell_type": "code",
   "execution_count": 51,
   "id": "edbb14d4-795c-4763-b27d-caa24de92646",
   "metadata": {},
   "outputs": [],
   "source": [
    "import pandas as pd"
   ]
  },
  {
   "cell_type": "code",
   "execution_count": 75,
   "id": "6532ca85-aa6c-4429-bc3c-f883281be07a",
   "metadata": {},
   "outputs": [],
   "source": [
    "station_df = pd.read_csv('data/station20210312free.csv')\n",
    "rent_price_df = pd.read_csv('data/avg_rent_price_for_each_station_20211119_135403.csv')\n",
    "\n",
    "station_df=station_df.drop(columns=['station_cd', 'station_g_cd',\n",
    "                        'station_name_k','station_name_r', 'line_cd', 'post','address','open_ymd', 'close_ymd', 'e_status', 'e_sort'])\n",
    "#station_df=station_df.drop(columns=['station_cd', 'station_g_cd',\n",
    "#                        'station_name_k','station_name_r', 'line_cd', 'open_ymd', 'close_ymd', 'e_status', 'e_sort'])\n",
    "\n",
    "\n",
    "# 一都三県のみ残す (11, 12 ,13, 14)\n",
    "station_df = station_df[station_df['pref_cd'] >= 11]\n",
    "station_df = station_df[station_df['pref_cd'] <= 14]\n",
    "\n",
    "#station_df = station_df[station_df.duplicated(subset=['station_name'])]\n",
    "#station_df.drop_duplicates(subset=['station_name','post']).to_csv('data/aaa.csv', index=False)\n",
    "\n",
    "#station_df = station_df.drop(columns=['pref_cd'])\n",
    "\n",
    "# TODO: 小川町と市ヶ谷が困る！\n",
    "station_df = station_df.drop_duplicates(subset=['station_name']) \n",
    "\n",
    "df=pd.merge(rent_price_df, station_df, how='left', on=\"station_name\")\n",
    "df.to_csv('data/avg_rent_price_with_latlon.csv', index=False)"
   ]
  }
 ],
 "metadata": {
  "kernelspec": {
   "display_name": "Python 3",
   "language": "python",
   "name": "python3"
  },
  "language_info": {
   "codemirror_mode": {
    "name": "ipython",
    "version": 3
   },
   "file_extension": ".py",
   "mimetype": "text/x-python",
   "name": "python",
   "nbconvert_exporter": "python",
   "pygments_lexer": "ipython3",
   "version": "3.8.12"
  }
 },
 "nbformat": 4,
 "nbformat_minor": 5
}
